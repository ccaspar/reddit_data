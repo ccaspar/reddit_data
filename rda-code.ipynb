{
 "cells": [
  {
   "cell_type": "markdown",
   "metadata": {
    "focus": false,
    "id": "69b9a648-bcc7-490d-9f9b-ea244d156bd6"
   },
   "source": [
    "# Web Scraping for Reddit & Predicting Comments"
   ]
  },
  {
   "cell_type": "markdown",
   "metadata": {},
   "source": [
    "This report illustrates an analysis of reddit post data to identify what kinds of posts evoke the most user response. The data was scraped from Reddit's 'front page', which contains the website's hottest posts. A scraper was built to retreive the following info from each post on the top twenty-five pages: title, time since post, subreddit, number of upvotes, and number of comments. Four additional features were engineered from the title: length of title, punctuation in title, first letter capitalized, and is the last character punctuation. Lastly, a countvectorizer was used to analyze the effect of specific words. Methods used for analysis were random forest and logistic regression. The models were assessing whether a post would have an above median number of comments. As such, the baseline for these tests was 50%. A comparison bewteen the two models was performed to identify which would best represent the data. The initial evaluation of correlations between number of comments and the independent variables didn't reveal many strong correlations, but when put the together the models showed a clear improvement over the baseline. Both models obtained a cross-validated accuracy score in the low 70% range. The inclusion of the countvectorizer did not necessarily improve the models though. The random forest model saw it's accuracy score drop from 74.3% to 71.2&, whereas the logistic regression saw an increase in accuracy from 69.3% to 73.7%. At this point, the effectiveness of the countvectorizer is debatable. It is possible that there was not enough data collected for effective word level data (507 rows of data). The ultimate recommendation is to use the random forest model without the countvectorizer, in the interest of simplicity and because the effectiveness of the countvectorizer is uncertain. With this in mind, the strongest indicators of a post getting above average comments are number of upvotes and title length, both of which have a positive correlation. punctuation in title, first letter capitalized, and last character punctuation all had weak but positive correlations as well. Next steps on this project are to obtain and train on more data so that a more powerful countvectorizer can possibly be used. In that event, it may be necessary to switch to a logistic regression to capture the full explanatory power of the word data rather than depending on random trees to select specific features from the bunch. To make effective random forest features, the countvectorizer would likely have to be limited to only the several most effective features."
   ]
  },
  {
   "cell_type": "code",
   "execution_count": 1,
   "metadata": {
    "collapsed": true
   },
   "outputs": [],
   "source": [
    "import requests\n",
    "import re\n",
    "from bs4 import BeautifulSoup\n",
    "import pandas as pd\n",
    "import numpy as np\n",
    "import matplotlib.pyplot as plt\n",
    "from sklearn.preprocessing import StandardScaler\n",
    "from sklearn.metrics import confusion_matrix\n",
    "from sklearn.tree import DecisionTreeClassifier\n",
    "from sklearn.ensemble import RandomForestClassifier, ExtraTreesClassifier, BaggingClassifier\n",
    "from sklearn.model_selection import train_test_split, cross_val_score, StratifiedKFold\n",
    "from sklearn.feature_extraction.text import CountVectorizer, HashingVectorizer, TfidfVectorizer\n",
    "from sklearn.linear_model import LinearRegression, LogisticRegression\n",
    "from sklearn.neighbors import KNeighborsClassifier\n",
    "\n",
    "%matplotlib inline"
   ]
  },
  {
   "cell_type": "code",
   "execution_count": 2,
   "metadata": {
    "collapsed": true
   },
   "outputs": [],
   "source": [
    "url = \"http://www.reddit.com\""
   ]
  },
  {
   "cell_type": "code",
   "execution_count": 4,
   "metadata": {
    "collapsed": true
   },
   "outputs": [],
   "source": [
    "response = requests.get(url, headers = {'User-agent': 'ccc'})\n",
    "if response.status_code == 200:\n",
    "    html = response.text\n",
    "    soup = BeautifulSoup(html, 'lxml')"
   ]
  },
  {
   "cell_type": "code",
   "execution_count": 3,
   "metadata": {
    "collapsed": true
   },
   "outputs": [],
   "source": [
    "# titles\n",
    "def get_titles(soup):\n",
    "    title_soup = soup.find_all('p', {'class':'title'})\n",
    "    titles = [i.find('a').text for i in title_soup]\n",
    "    return titles"
   ]
  },
  {
   "cell_type": "code",
   "execution_count": 4,
   "metadata": {
    "collapsed": true
   },
   "outputs": [],
   "source": [
    "# subreddits\n",
    "def get_subs(soup):\n",
    "    sub_soup = soup.find_all('a', {'class':'subreddit hover may-blank'})\n",
    "    subreddits = [i.text for i in sub_soup]\n",
    "    return subreddits"
   ]
  },
  {
   "cell_type": "code",
   "execution_count": 5,
   "metadata": {
    "collapsed": true
   },
   "outputs": [],
   "source": [
    "# time since post\n",
    "def get_times(soup):\n",
    "    how_old = []\n",
    "    time_soup = soup.find_all('time', {'class': 'live-timestamp'})\n",
    "    times = [i.text for i in time_soup]\n",
    "    \n",
    "# take out the text and return int\n",
    "    for i in times:\n",
    "        if 'hour' in i:\n",
    "            how_old.append(int(i[0]))\n",
    "        else:\n",
    "            how_old.append(int(i))\n",
    "    return how_old"
   ]
  },
  {
   "cell_type": "code",
   "execution_count": 6,
   "metadata": {
    "collapsed": true
   },
   "outputs": [],
   "source": [
    "# number of comments\n",
    "def get_comments(soup):\n",
    "    comm_soup = soup.find_all('a', {'class':'bylink comments may-blank'})\n",
    "    comments = [i.text for i in comm_soup]\n",
    "    \n",
    "# take just first word and return int\n",
    "    num_comments = [(int(n.split(' ')[0])) for n in comments]\n",
    "    return num_comments"
   ]
  },
  {
   "cell_type": "markdown",
   "metadata": {},
   "source": [
    "## Write one more function that finds the last `id` on the page, and stores it."
   ]
  },
  {
   "cell_type": "code",
   "execution_count": 7,
   "metadata": {
    "collapsed": true
   },
   "outputs": [],
   "source": [
    "def find_last(soup, page_num):\n",
    "    n = 25\n",
    "    last_id = soup.find('div', {'data-rank':str(n*page_num)})['data-fullname']"
   ]
  },
  {
   "cell_type": "code",
   "execution_count": 8,
   "metadata": {
    "collapsed": true
   },
   "outputs": [],
   "source": [
    "# upvotes\n",
    "def get_votes(soup):\n",
    "    upvote_soup = soup.find_all('div', {'class': 'score unvoted'})\n",
    "    upvotes = [i.text for i in upvote_soup]\n",
    "    num_votes = []\n",
    "\n",
    "# take out text and return an int, and return NaN if there is no vote count\n",
    "    for i in upvotes:\n",
    "        if 'k' in i:\n",
    "            num_votes.append(int(float(i[:-1]) * 1000))\n",
    "        else:\n",
    "            try:\n",
    "                num_votes.append(int(i))\n",
    "            except:\n",
    "                num_votes.append('NaN')\n",
    "    return num_votes"
   ]
  },
  {
   "cell_type": "code",
   "execution_count": 24,
   "metadata": {
    "collapsed": true
   },
   "outputs": [],
   "source": [
    "# combining steps into one big scrape\n",
    "soups = []\n",
    "n = 25\n",
    "\n",
    "# front page scrape\n",
    "response = requests.get(url, headers = {'User-agent': 'ccc'})\n",
    "if response.status_code == 200:\n",
    "    html = response.text\n",
    "    soup = BeautifulSoup(html, 'lxml')\n",
    "    soups.append(soup)\n",
    "    \n",
    "\n",
    "# following pages scrape\n",
    "for i in range(1,21):\n",
    "    last_id = soup.find('div', {'data-rank':str(n*i)})['data-fullname']\n",
    "    next_url = ('https://www.reddit.com/?count='+str(n*i)+'&after='+last_id)\n",
    "    response = requests.get(next_url, headers = {'User-agent': 'ccc'})\n",
    "    if response.status_code == 200:\n",
    "        html = response.text\n",
    "        soup = BeautifulSoup(html, 'lxml')\n",
    "        soups.append(soup)"
   ]
  },
  {
   "cell_type": "code",
   "execution_count": 9,
   "metadata": {
    "collapsed": true,
    "scrolled": true
   },
   "outputs": [],
   "source": [
    "# flatten list of lists into one list\n",
    "def flatten(lst):\n",
    "    new = []\n",
    "    for each in lst:\n",
    "        for i in each:\n",
    "            new.append(i)\n",
    "            lst = new\n",
    "    return lst"
   ]
  },
  {
   "cell_type": "code",
   "execution_count": 142,
   "metadata": {
    "collapsed": true,
    "focus": false,
    "id": "6e259594-1c52-436b-ab9e-527e071941c1"
   },
   "outputs": [],
   "source": [
    "# add separate categories into lists, then add lists to a df\n",
    "titles = []\n",
    "subreddits = []\n",
    "how_old = []\n",
    "num_comments = []\n",
    "num_votes = []\n",
    "\n",
    "for i in soups:\n",
    "    titles.append(get_titles(i))\n",
    "    subreddits.append(get_subs(i))\n",
    "    how_old.append(get_times(i))\n",
    "    num_comments.append(get_comments(i))\n",
    "    num_votes.append(get_votes(i))\n",
    "\n",
    "full = [flatten(titles), flatten(subreddits), flatten(how_old), flatten(num_comments), flatten(num_votes)]\n",
    "df = pd.DataFrame(full)\n",
    "df = df.transpose()\n",
    "df.columns = ['Title', 'Subreddit', 'Age', 'Comments', 'Upvotes']"
   ]
  },
  {
   "cell_type": "code",
   "execution_count": 143,
   "metadata": {},
   "outputs": [
    {
     "name": "stdout",
     "output_type": "stream",
     "text": [
      "<class 'pandas.core.frame.DataFrame'>\n",
      "Int64Index: 522 entries, 0 to 521\n",
      "Data columns (total 5 columns):\n",
      "Title        522 non-null object\n",
      "Subreddit    522 non-null object\n",
      "Age          522 non-null object\n",
      "Comments     522 non-null object\n",
      "Upvotes      522 non-null object\n",
      "dtypes: object(5)\n",
      "memory usage: 24.5+ KB\n"
     ]
    }
   ],
   "source": [
    "df.dropna(inplace=True)\n",
    "df.info()"
   ]
  },
  {
   "cell_type": "code",
   "execution_count": 144,
   "metadata": {
    "collapsed": true,
    "focus": false,
    "id": "783fd153-28ac-47ab-bfca-27e7c1de95b4"
   },
   "outputs": [],
   "source": [
    "df.to_csv('./df_data')"
   ]
  },
  {
   "cell_type": "code",
   "execution_count": 2,
   "metadata": {
    "collapsed": true,
    "focus": false,
    "id": "588f9845-6143-4bcc-bfd1-85d45b79303d"
   },
   "outputs": [],
   "source": [
    "df = pd.read_csv('./df_data')\n",
    "df.drop('Unnamed: 0', axis=1, inplace=True)\n",
    "df.dropna(inplace=True)\n",
    "df.reset_index(inplace=True)"
   ]
  },
  {
   "cell_type": "code",
   "execution_count": 3,
   "metadata": {
    "collapsed": true
   },
   "outputs": [],
   "source": [
    "# start by looking at a binary variable for high or low # of comments\n",
    "df['High_Com'] = df['Comments'] > np.median(df['Comments'])"
   ]
  },
  {
   "cell_type": "code",
   "execution_count": 12,
   "metadata": {},
   "outputs": [
    {
     "data": {
      "text/html": [
       "<div>\n",
       "<style>\n",
       "    .dataframe thead tr:only-child th {\n",
       "        text-align: right;\n",
       "    }\n",
       "\n",
       "    .dataframe thead th {\n",
       "        text-align: left;\n",
       "    }\n",
       "\n",
       "    .dataframe tbody tr th {\n",
       "        vertical-align: top;\n",
       "    }\n",
       "</style>\n",
       "<table border=\"1\" class=\"dataframe\">\n",
       "  <thead>\n",
       "    <tr style=\"text-align: right;\">\n",
       "      <th></th>\n",
       "      <th>Title</th>\n",
       "      <th>Subreddit</th>\n",
       "      <th>Age</th>\n",
       "      <th>Comments</th>\n",
       "      <th>Upvotes</th>\n",
       "      <th>High_Com</th>\n",
       "    </tr>\n",
       "  </thead>\n",
       "  <tbody>\n",
       "    <tr>\n",
       "      <th>0</th>\n",
       "      <td>On the left: Scene from the first season of St...</td>\n",
       "      <td>r/pics</td>\n",
       "      <td>2</td>\n",
       "      <td>603</td>\n",
       "      <td>29200.0</td>\n",
       "      <td>True</td>\n",
       "    </tr>\n",
       "    <tr>\n",
       "      <th>1</th>\n",
       "      <td>This morning reflection from my front door</td>\n",
       "      <td>r/mildlyinteresting</td>\n",
       "      <td>3</td>\n",
       "      <td>925</td>\n",
       "      <td>50000.0</td>\n",
       "      <td>True</td>\n",
       "    </tr>\n",
       "    <tr>\n",
       "      <th>2</th>\n",
       "      <td>Shut up and take my money</td>\n",
       "      <td>r/BlackPeopleTwitter</td>\n",
       "      <td>3</td>\n",
       "      <td>626</td>\n",
       "      <td>21100.0</td>\n",
       "      <td>True</td>\n",
       "    </tr>\n",
       "    <tr>\n",
       "      <th>3</th>\n",
       "      <td>MASWEA!</td>\n",
       "      <td>r/DunderMifflin</td>\n",
       "      <td>2</td>\n",
       "      <td>171</td>\n",
       "      <td>12800.0</td>\n",
       "      <td>True</td>\n",
       "    </tr>\n",
       "    <tr>\n",
       "      <th>4</th>\n",
       "      <td>Mass shooting plot for SoCal high school thwar...</td>\n",
       "      <td>r/news</td>\n",
       "      <td>5</td>\n",
       "      <td>3668</td>\n",
       "      <td>27700.0</td>\n",
       "      <td>True</td>\n",
       "    </tr>\n",
       "  </tbody>\n",
       "</table>\n",
       "</div>"
      ],
      "text/plain": [
       "                                               Title             Subreddit  \\\n",
       "0  On the left: Scene from the first season of St...                r/pics   \n",
       "1         This morning reflection from my front door   r/mildlyinteresting   \n",
       "2                          Shut up and take my money  r/BlackPeopleTwitter   \n",
       "3                                            MASWEA!       r/DunderMifflin   \n",
       "4  Mass shooting plot for SoCal high school thwar...                r/news   \n",
       "\n",
       "   Age  Comments  Upvotes  High_Com  \n",
       "0    2       603  29200.0      True  \n",
       "1    3       925  50000.0      True  \n",
       "2    3       626  21100.0      True  \n",
       "3    2       171  12800.0      True  \n",
       "4    5      3668  27700.0      True  "
      ]
     },
     "execution_count": 12,
     "metadata": {},
     "output_type": "execute_result"
    }
   ],
   "source": [
    "df.head()"
   ]
  },
  {
   "cell_type": "code",
   "execution_count": 13,
   "metadata": {
    "focus": false,
    "id": "87a17d3d-b7f4-4747-9f75-f9af1d18a174"
   },
   "outputs": [
    {
     "data": {
      "text/plain": [
       "0.4990138067061144"
      ]
     },
     "execution_count": 13,
     "metadata": {},
     "output_type": "execute_result"
    }
   ],
   "source": [
    "# baseline accuracy = 50% (median)\n",
    "df.High_Com.sum() / len(df)"
   ]
  },
  {
   "cell_type": "code",
   "execution_count": 5,
   "metadata": {
    "focus": false,
    "id": "ddbc6159-6854-4ca7-857f-bfecdaf6d9c2"
   },
   "outputs": [
    {
     "data": {
      "text/plain": [
       "0.5882352941176471"
      ]
     },
     "execution_count": 5,
     "metadata": {},
     "output_type": "execute_result"
    }
   ],
   "source": [
    "# checking impact of subreddit name with a simple random forest model\n",
    "X = pd.get_dummies(df.Subreddit)\n",
    "y = df.High_Com\n",
    "\n",
    "X_train, X_test, y_train, y_test = train_test_split(X,y, test_size=0.3)\n",
    "\n",
    "rf = RandomForestClassifier()\n",
    "rf.fit(X_train, y_train)\n",
    "rf.score(X_test, y_test)"
   ]
  },
  {
   "cell_type": "code",
   "execution_count": 6,
   "metadata": {},
   "outputs": [
    {
     "data": {
      "text/plain": [
       "0.5165591397849463"
      ]
     },
     "execution_count": 6,
     "metadata": {},
     "output_type": "execute_result"
    }
   ],
   "source": [
    "cv = StratifiedKFold(n_splits = 5, shuffle=True)\n",
    "cross_val_score(rf, X_test, y_test, cv=cv).mean()"
   ]
  },
  {
   "cell_type": "code",
   "execution_count": 4,
   "metadata": {
    "collapsed": true
   },
   "outputs": [],
   "source": [
    "## creating functions for feature engineering\n",
    "# has any punctuation in title\n",
    "def has_punc(s):\n",
    "    for c in s:\n",
    "        if c in \",.!'?\":\n",
    "            return True\n",
    "    return False"
   ]
  },
  {
   "cell_type": "code",
   "execution_count": 5,
   "metadata": {
    "collapsed": true
   },
   "outputs": [],
   "source": [
    "# last character is punctuation\n",
    "def end_punc(s):\n",
    "    for c in s:\n",
    "        if c[len(c)-1] in \",.!'?\":\n",
    "            return True\n",
    "    return False"
   ]
  },
  {
   "cell_type": "code",
   "execution_count": 6,
   "metadata": {
    "collapsed": true
   },
   "outputs": [],
   "source": [
    "# first letter is capitalized\n",
    "def first_cap(s):\n",
    "    for i in s:\n",
    "        if i[0] == i[0].upper():\n",
    "            return True\n",
    "    return False"
   ]
  },
  {
   "cell_type": "code",
   "execution_count": 7,
   "metadata": {
    "collapsed": true
   },
   "outputs": [],
   "source": [
    "# feature engineering\n",
    "df['Title_len'] = df['Title'].apply(len)\n",
    "df['Title_punc'] = df['Title'].apply(has_punc)\n",
    "df['Title_cap'] = df['Title'].apply(first_cap)\n",
    "df['Title_endpunc'] = df['Title'].apply(end_punc)\n",
    "df['Rank'] = df.index + 1"
   ]
  },
  {
   "cell_type": "code",
   "execution_count": 320,
   "metadata": {},
   "outputs": [
    {
     "data": {
      "text/html": [
       "<div>\n",
       "<style>\n",
       "    .dataframe thead tr:only-child th {\n",
       "        text-align: right;\n",
       "    }\n",
       "\n",
       "    .dataframe thead th {\n",
       "        text-align: left;\n",
       "    }\n",
       "\n",
       "    .dataframe tbody tr th {\n",
       "        vertical-align: top;\n",
       "    }\n",
       "</style>\n",
       "<table border=\"1\" class=\"dataframe\">\n",
       "  <thead>\n",
       "    <tr style=\"text-align: right;\">\n",
       "      <th></th>\n",
       "      <th>index</th>\n",
       "      <th>Age</th>\n",
       "      <th>Comments</th>\n",
       "      <th>Upvotes</th>\n",
       "      <th>High_Com</th>\n",
       "      <th>Title_len</th>\n",
       "      <th>Title_punc</th>\n",
       "      <th>Rank</th>\n",
       "      <th>Hourly_votes</th>\n",
       "      <th>Title_cap</th>\n",
       "      <th>Title_endpunc</th>\n",
       "    </tr>\n",
       "  </thead>\n",
       "  <tbody>\n",
       "    <tr>\n",
       "      <th>index</th>\n",
       "      <td>1.000000</td>\n",
       "      <td>-0.094353</td>\n",
       "      <td>-0.060951</td>\n",
       "      <td>-0.093781</td>\n",
       "      <td>-0.125198</td>\n",
       "      <td>0.057661</td>\n",
       "      <td>0.010133</td>\n",
       "      <td>0.999866</td>\n",
       "      <td>-0.089277</td>\n",
       "      <td>-0.005978</td>\n",
       "      <td>0.010133</td>\n",
       "    </tr>\n",
       "    <tr>\n",
       "      <th>Age</th>\n",
       "      <td>-0.094353</td>\n",
       "      <td>1.000000</td>\n",
       "      <td>-0.009390</td>\n",
       "      <td>0.021121</td>\n",
       "      <td>0.102075</td>\n",
       "      <td>0.060560</td>\n",
       "      <td>0.048592</td>\n",
       "      <td>-0.096882</td>\n",
       "      <td>-0.328697</td>\n",
       "      <td>0.041299</td>\n",
       "      <td>0.048592</td>\n",
       "    </tr>\n",
       "    <tr>\n",
       "      <th>Comments</th>\n",
       "      <td>-0.060951</td>\n",
       "      <td>-0.009390</td>\n",
       "      <td>1.000000</td>\n",
       "      <td>0.286306</td>\n",
       "      <td>0.404266</td>\n",
       "      <td>0.074887</td>\n",
       "      <td>0.014023</td>\n",
       "      <td>-0.061739</td>\n",
       "      <td>0.230648</td>\n",
       "      <td>-0.020226</td>\n",
       "      <td>0.014023</td>\n",
       "    </tr>\n",
       "    <tr>\n",
       "      <th>Upvotes</th>\n",
       "      <td>-0.093781</td>\n",
       "      <td>0.021121</td>\n",
       "      <td>0.286306</td>\n",
       "      <td>1.000000</td>\n",
       "      <td>0.375426</td>\n",
       "      <td>0.124235</td>\n",
       "      <td>0.028690</td>\n",
       "      <td>-0.094874</td>\n",
       "      <td>0.759262</td>\n",
       "      <td>0.002512</td>\n",
       "      <td>0.028690</td>\n",
       "    </tr>\n",
       "    <tr>\n",
       "      <th>High_Com</th>\n",
       "      <td>-0.125198</td>\n",
       "      <td>0.102075</td>\n",
       "      <td>0.404266</td>\n",
       "      <td>0.375426</td>\n",
       "      <td>1.000000</td>\n",
       "      <td>0.124107</td>\n",
       "      <td>0.065266</td>\n",
       "      <td>-0.126814</td>\n",
       "      <td>0.249376</td>\n",
       "      <td>0.044412</td>\n",
       "      <td>0.065266</td>\n",
       "    </tr>\n",
       "    <tr>\n",
       "      <th>Title_len</th>\n",
       "      <td>0.057661</td>\n",
       "      <td>0.060560</td>\n",
       "      <td>0.074887</td>\n",
       "      <td>0.124235</td>\n",
       "      <td>0.124107</td>\n",
       "      <td>1.000000</td>\n",
       "      <td>0.374403</td>\n",
       "      <td>0.056212</td>\n",
       "      <td>0.077975</td>\n",
       "      <td>0.090063</td>\n",
       "      <td>0.374403</td>\n",
       "    </tr>\n",
       "    <tr>\n",
       "      <th>Title_punc</th>\n",
       "      <td>0.010133</td>\n",
       "      <td>0.048592</td>\n",
       "      <td>0.014023</td>\n",
       "      <td>0.028690</td>\n",
       "      <td>0.065266</td>\n",
       "      <td>0.374403</td>\n",
       "      <td>1.000000</td>\n",
       "      <td>0.010066</td>\n",
       "      <td>-0.007345</td>\n",
       "      <td>0.093687</td>\n",
       "      <td>1.000000</td>\n",
       "    </tr>\n",
       "    <tr>\n",
       "      <th>Rank</th>\n",
       "      <td>0.999866</td>\n",
       "      <td>-0.096882</td>\n",
       "      <td>-0.061739</td>\n",
       "      <td>-0.094874</td>\n",
       "      <td>-0.126814</td>\n",
       "      <td>0.056212</td>\n",
       "      <td>0.010066</td>\n",
       "      <td>1.000000</td>\n",
       "      <td>-0.087680</td>\n",
       "      <td>-0.005941</td>\n",
       "      <td>0.010066</td>\n",
       "    </tr>\n",
       "    <tr>\n",
       "      <th>Hourly_votes</th>\n",
       "      <td>-0.089277</td>\n",
       "      <td>-0.328697</td>\n",
       "      <td>0.230648</td>\n",
       "      <td>0.759262</td>\n",
       "      <td>0.249376</td>\n",
       "      <td>0.077975</td>\n",
       "      <td>-0.007345</td>\n",
       "      <td>-0.087680</td>\n",
       "      <td>1.000000</td>\n",
       "      <td>-0.027329</td>\n",
       "      <td>-0.007345</td>\n",
       "    </tr>\n",
       "    <tr>\n",
       "      <th>Title_cap</th>\n",
       "      <td>-0.005978</td>\n",
       "      <td>0.041299</td>\n",
       "      <td>-0.020226</td>\n",
       "      <td>0.002512</td>\n",
       "      <td>0.044412</td>\n",
       "      <td>0.090063</td>\n",
       "      <td>0.093687</td>\n",
       "      <td>-0.005941</td>\n",
       "      <td>-0.027329</td>\n",
       "      <td>1.000000</td>\n",
       "      <td>0.093687</td>\n",
       "    </tr>\n",
       "    <tr>\n",
       "      <th>Title_endpunc</th>\n",
       "      <td>0.010133</td>\n",
       "      <td>0.048592</td>\n",
       "      <td>0.014023</td>\n",
       "      <td>0.028690</td>\n",
       "      <td>0.065266</td>\n",
       "      <td>0.374403</td>\n",
       "      <td>1.000000</td>\n",
       "      <td>0.010066</td>\n",
       "      <td>-0.007345</td>\n",
       "      <td>0.093687</td>\n",
       "      <td>1.000000</td>\n",
       "    </tr>\n",
       "  </tbody>\n",
       "</table>\n",
       "</div>"
      ],
      "text/plain": [
       "                  index       Age  Comments   Upvotes  High_Com  Title_len  \\\n",
       "index          1.000000 -0.094353 -0.060951 -0.093781 -0.125198   0.057661   \n",
       "Age           -0.094353  1.000000 -0.009390  0.021121  0.102075   0.060560   \n",
       "Comments      -0.060951 -0.009390  1.000000  0.286306  0.404266   0.074887   \n",
       "Upvotes       -0.093781  0.021121  0.286306  1.000000  0.375426   0.124235   \n",
       "High_Com      -0.125198  0.102075  0.404266  0.375426  1.000000   0.124107   \n",
       "Title_len      0.057661  0.060560  0.074887  0.124235  0.124107   1.000000   \n",
       "Title_punc     0.010133  0.048592  0.014023  0.028690  0.065266   0.374403   \n",
       "Rank           0.999866 -0.096882 -0.061739 -0.094874 -0.126814   0.056212   \n",
       "Hourly_votes  -0.089277 -0.328697  0.230648  0.759262  0.249376   0.077975   \n",
       "Title_cap     -0.005978  0.041299 -0.020226  0.002512  0.044412   0.090063   \n",
       "Title_endpunc  0.010133  0.048592  0.014023  0.028690  0.065266   0.374403   \n",
       "\n",
       "               Title_punc      Rank  Hourly_votes  Title_cap  Title_endpunc  \n",
       "index            0.010133  0.999866     -0.089277  -0.005978       0.010133  \n",
       "Age              0.048592 -0.096882     -0.328697   0.041299       0.048592  \n",
       "Comments         0.014023 -0.061739      0.230648  -0.020226       0.014023  \n",
       "Upvotes          0.028690 -0.094874      0.759262   0.002512       0.028690  \n",
       "High_Com         0.065266 -0.126814      0.249376   0.044412       0.065266  \n",
       "Title_len        0.374403  0.056212      0.077975   0.090063       0.374403  \n",
       "Title_punc       1.000000  0.010066     -0.007345   0.093687       1.000000  \n",
       "Rank             0.010066  1.000000     -0.087680  -0.005941       0.010066  \n",
       "Hourly_votes    -0.007345 -0.087680      1.000000  -0.027329      -0.007345  \n",
       "Title_cap        0.093687 -0.005941     -0.027329   1.000000       0.093687  \n",
       "Title_endpunc    1.000000  0.010066     -0.007345   0.093687       1.000000  "
      ]
     },
     "execution_count": 320,
     "metadata": {},
     "output_type": "execute_result"
    }
   ],
   "source": [
    "df.corr()"
   ]
  },
  {
   "cell_type": "code",
   "execution_count": 10,
   "metadata": {},
   "outputs": [
    {
     "data": {
      "image/png": "[encoded data removed]",
      "text/plain": [
       "<matplotlib.figure.Figure at 0x1a0e190550>"
      ]
     },
     "metadata": {},
     "output_type": "display_data"
    }
   ],
   "source": [
    "# the labels are white so that they show up well on dark slides\n",
    "# Upvotes vs. Comments scatter\n",
    "fig = plt.figure()\n",
    "ax = fig.add_subplot(111)\n",
    "\n",
    "ax.scatter(df['Upvotes'], df['Comments'])\n",
    "ax.set_title('Upvotes vs Comments', fontsize=22)\n",
    "ax.set_xlabel('Upvotes', fontsize=16)\n",
    "ax.set_ylabel('Comments', fontsize=16);"
   ]
  },
  {
   "cell_type": "code",
   "execution_count": 11,
   "metadata": {},
   "outputs": [
    {
     "data": {
      "image/png": "[encoded data removed]",
      "text/plain": [
       "<matplotlib.figure.Figure at 0x1a0e302400>"
      ]
     },
     "metadata": {},
     "output_type": "display_data"
    }
   ],
   "source": [
    "# Age vs. Comments scatter\n",
    "fig = plt.figure()\n",
    "ax = fig.add_subplot(111)\n",
    "\n",
    "ax.scatter(df['Age'], df['Comments'])\n",
    "ax.set_title('Age vs Comments', fontsize=22)\n",
    "ax.set_xlabel('Age', fontsize=16)\n",
    "ax.set_ylabel('Comments', fontsize=16);"
   ]
  },
  {
   "cell_type": "code",
   "execution_count": 12,
   "metadata": {},
   "outputs": [
    {
     "data": {
      "image/png": "[encoded data removed]",
      "text/plain": [
       "<matplotlib.figure.Figure at 0x1a0e225b70>"
      ]
     },
     "metadata": {},
     "output_type": "display_data"
    }
   ],
   "source": [
    "# Title Length vs. Comments Scatter\n",
    "fig = plt.figure()\n",
    "ax = fig.add_subplot(111)\n",
    "\n",
    "ax.scatter(df['Title_len'], df['Comments'])\n",
    "ax.set_title('Title Length vs Comments', fontsize=22)\n",
    "ax.set_xlabel('Title Length', fontsize=16)\n",
    "ax.set_ylabel('Comments', fontsize=16);"
   ]
  },
  {
   "cell_type": "code",
   "execution_count": 12,
   "metadata": {
    "collapsed": true
   },
   "outputs": [],
   "source": [
    "# Make dummy pdf and a df of new features\n",
    "dums = pd.get_dummies(df.Subreddit)\n",
    "new_vars = df[['Age', 'Upvotes', 'Title_len', 'Title_punc', 'Rank', 'Title_cap']]"
   ]
  },
  {
   "cell_type": "code",
   "execution_count": 37,
   "metadata": {
    "scrolled": true
   },
   "outputs": [
    {
     "data": {
      "text/plain": [
       "0.7189542483660131"
      ]
     },
     "execution_count": 37,
     "metadata": {},
     "output_type": "execute_result"
    }
   ],
   "source": [
    "# second rf model\n",
    "X = pd.concat([dums, new_vars], axis=1)\n",
    "y = df.High_Com\n",
    "\n",
    "X_train, X_test, y_train, y_test = train_test_split(X, y, test_size=0.3)\n",
    "\n",
    "rf = RandomForestClassifier(n_estimators=500, max_depth=7)\n",
    "rf.fit(X_train, y_train)\n",
    "rf.score(X_test, y_test)"
   ]
  },
  {
   "cell_type": "code",
   "execution_count": 59,
   "metadata": {},
   "outputs": [
    {
     "data": {
      "text/plain": [
       "0.7434927697441601"
      ]
     },
     "execution_count": 59,
     "metadata": {},
     "output_type": "execute_result"
    }
   ],
   "source": [
    "cv = StratifiedKFold(n_splits = 5, shuffle=True)\n",
    "cross_val_score(rf, X_test, y_test, cv=cv).mean()"
   ]
  },
  {
   "cell_type": "code",
   "execution_count": 52,
   "metadata": {},
   "outputs": [
    {
     "data": {
      "text/plain": [
       "0.8163841807909604"
      ]
     },
     "execution_count": 52,
     "metadata": {},
     "output_type": "execute_result"
    }
   ],
   "source": [
    "# adding CVEC to second rf model\n",
    "cvec = CountVectorizer(stop_words='english', max_features=100)\n",
    "cvecdata = cvec.fit_transform(df['Title'])\n",
    "df2  = pd.DataFrame(cvecdata.todense(), columns=cvec.get_feature_names())\n",
    "\n",
    "X = pd.concat([dums, new_vars, df2], axis=1)\n",
    "y = df.High_Com\n",
    "\n",
    "X_train, X_test, y_train, y_test = train_test_split(X, y, test_size=0.3)\n",
    "\n",
    "rf = RandomForestClassifier(n_estimators=500, max_depth=7)\n",
    "rf.fit(X_train, y_train)\n",
    "rf.score(X_train, y_train)"
   ]
  },
  {
   "cell_type": "code",
   "execution_count": 54,
   "metadata": {
    "focus": false,
    "id": "269b9e7c-60b5-4a06-8255-881d7395bc1b"
   },
   "outputs": [
    {
     "data": {
      "text/plain": [
       "0.7125672043010752"
      ]
     },
     "execution_count": 54,
     "metadata": {},
     "output_type": "execute_result"
    }
   ],
   "source": [
    "cv = StratifiedKFold(n_splits = 5, shuffle=True)\n",
    "cross_val_score(rf, X_test, y_test, cv=cv).mean()"
   ]
  },
  {
   "cell_type": "code",
   "execution_count": 62,
   "metadata": {},
   "outputs": [
    {
     "data": {
      "text/plain": [
       "array([[69, 10],\n",
       "       [25, 49]])"
      ]
     },
     "execution_count": 62,
     "metadata": {},
     "output_type": "execute_result"
    }
   ],
   "source": [
    "y_preds = rf.predict(X_test)\n",
    "confusion_matrix(y_test, y_preds)"
   ]
  },
  {
   "cell_type": "code",
   "execution_count": 27,
   "metadata": {},
   "outputs": [
    {
     "data": {
      "text/plain": [
       "0.7254901960784313"
      ]
     },
     "execution_count": 27,
     "metadata": {},
     "output_type": "execute_result"
    }
   ],
   "source": [
    "## comparing a logistic regression model to the random forest model\n",
    "# logistic regression model\n",
    "X = new_vars\n",
    "y = df['High_Com']\n",
    "\n",
    "ss = StandardScaler()\n",
    "Xs = ss.fit_transform(X)\n",
    "\n",
    "X_train, X_test, y_train, y_test = train_test_split(Xs, y, test_size=0.3)\n",
    "\n",
    "lr = LogisticRegression()\n",
    "lr.fit(X_train, y_train)\n",
    "lr.score(X_test, y_test)"
   ]
  },
  {
   "cell_type": "code",
   "execution_count": 366,
   "metadata": {},
   "outputs": [
    {
     "data": {
      "text/plain": [
       "0.6936596218020021"
      ]
     },
     "execution_count": 366,
     "metadata": {},
     "output_type": "execute_result"
    }
   ],
   "source": [
    "cv = StratifiedKFold(n_splits = 5, shuffle=True)\n",
    "cross_val_score(lr, X_test, y_test, cv=cv).mean()"
   ]
  },
  {
   "cell_type": "code",
   "execution_count": 35,
   "metadata": {},
   "outputs": [
    {
     "data": {
      "text/plain": [
       "0.738562091503268"
      ]
     },
     "execution_count": 35,
     "metadata": {},
     "output_type": "execute_result"
    }
   ],
   "source": [
    "# adding CVEC to logistic regression model\n",
    "cvec = CountVectorizer(stop_words='english', max_features=100)\n",
    "cvecdata = cvec.fit_transform(df['Title'])\n",
    "df2  = pd.DataFrame(cvecdata.todense(), columns=cvec.get_feature_names())\n",
    "\n",
    "X = pd.concat([new_vars.reset_index(), df2], axis=1)\n",
    "y = df.High_Com\n",
    "\n",
    "X_train, X_test, y_train, y_test = train_test_split(X, y, test_size=0.3)\n",
    "\n",
    "lr = LogisticRegression()\n",
    "lr.fit(X_train, y_train)\n",
    "lr.score(X_test, y_test)"
   ]
  },
  {
   "cell_type": "code",
   "execution_count": 373,
   "metadata": {},
   "outputs": [
    {
     "data": {
      "text/plain": [
       "0.7371236559139784"
      ]
     },
     "execution_count": 373,
     "metadata": {},
     "output_type": "execute_result"
    }
   ],
   "source": [
    "cv = StratifiedKFold(n_splits = 5, shuffle=True)\n",
    "cross_val_score(rf, X_test, y_test, cv=cv).mean()"
   ]
  },
  {
   "cell_type": "code",
   "execution_count": 36,
   "metadata": {},
   "outputs": [
    {
     "data": {
      "text/plain": [
       "array([[62, 18],\n",
       "       [22, 51]])"
      ]
     },
     "execution_count": 36,
     "metadata": {},
     "output_type": "execute_result"
    }
   ],
   "source": [
    "y_preds = lr.predict(X_test)\n",
    "confusion_matrix(y_test, y_preds)"
   ]
  },
  {
   "cell_type": "code",
   "execution_count": 374,
   "metadata": {
    "scrolled": true
   },
   "outputs": [
    {
     "data": {
      "text/plain": [
       "just         21\n",
       "like         16\n",
       "new          16\n",
       "school       13\n",
       "right        12\n",
       "time         12\n",
       "way          11\n",
       "life         11\n",
       "shows        11\n",
       "florida      10\n",
       "high          9\n",
       "oc            9\n",
       "season        9\n",
       "early         9\n",
       "shooting      9\n",
       "don           9\n",
       "order         8\n",
       "people        8\n",
       "going         8\n",
       "game          8\n",
       "difficult     8\n",
       "event         8\n",
       "1983          8\n",
       "dementia      8\n",
       "twitter       8\n",
       "day           8\n",
       "store         8\n",
       "better        8\n",
       "study         8\n",
       "claiming      8\n",
       "             ..\n",
       "true          5\n",
       "caught        5\n",
       "trump         5\n",
       "started       5\n",
       "throw         5\n",
       "common        5\n",
       "ban           5\n",
       "thought       5\n",
       "things        5\n",
       "assault       5\n",
       "wind          5\n",
       "stop          5\n",
       "look          5\n",
       "space         5\n",
       "health        5\n",
       "money         5\n",
       "wolf          5\n",
       "need          5\n",
       "paranoid      5\n",
       "person        5\n",
       "hero          5\n",
       "police        5\n",
       "dog           5\n",
       "great         5\n",
       "raising       5\n",
       "saw           5\n",
       "episode       5\n",
       "end           5\n",
       "set           5\n",
       "shape         5\n",
       "Length: 100, dtype: int64"
      ]
     },
     "execution_count": 374,
     "metadata": {},
     "output_type": "execute_result"
    }
   ],
   "source": [
    "# top words in CVEC, not including stop words\n",
    "df2.sum().sort_values(ascending=False)"
   ]
  }
 ],
 "metadata": {
  "anaconda-cloud": {},
  "kernelspec": {
   "display_name": "Python [default]",
   "language": "python",
   "name": "python3"
  },
  "language_info": {
   "codemirror_mode": {
    "name": "ipython",
    "version": 3
   },
   "file_extension": ".py",
   "mimetype": "text/x-python",
   "name": "python",
   "nbconvert_exporter": "python",
   "pygments_lexer": "ipython3",
   "version": "3.6.3"
  },
  "varInspector": {
   "cols": {
    "lenName": 16,
    "lenType": 16,
    "lenVar": 40
   },
   "kernels_config": {
    "python": {
     "delete_cmd_postfix": "",
     "delete_cmd_prefix": "del ",
     "library": "var_list.py",
     "varRefreshCmd": "print(var_dic_list())"
    },
    "r": {
     "delete_cmd_postfix": ") ",
     "delete_cmd_prefix": "rm(",
     "library": "var_list.r",
     "varRefreshCmd": "cat(var_dic_list()) "
    }
   },
   "types_to_exclude": [
    "module",
    "function",
    "builtin_function_or_method",
    "instance",
    "_Feature"
   ],
   "window_display": false
  }
 },
 "nbformat": 4,
 "nbformat_minor": 1
}
